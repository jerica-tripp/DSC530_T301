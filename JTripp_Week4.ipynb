{
 "cells": [
  {
   "cell_type": "markdown",
   "metadata": {},
   "source": [
    "# Chapter 3"
   ]
  },
  {
   "cell_type": "code",
   "execution_count": 106,
   "metadata": {},
   "outputs": [],
   "source": [
    "from __future__ import print_function, division\n",
    "\n",
    "%matplotlib inline\n",
    "\n",
    "import numpy as np\n",
    "\n",
    "import nsfg\n",
    "import first\n",
    "import thinkstats2\n",
    "import thinkplot"
   ]
  },
  {
   "cell_type": "markdown",
   "metadata": {},
   "source": [
    "**Exercise 3.1:** Something like the class size paradox appears if you survey children and ask how many children are in their family. Families with many children are more likely to appear in your sample, and families with no children have no chance to be in the sample.\n",
    "\n",
    "Use the NSFG respondent variable `numkdhh` to construct the actual distribution for the number of children under 18 in the respondents' households.\n",
    "\n",
    "Now compute the biased distribution we would see if we surveyed the children and asked them how many children under 18 (including themselves) are in their household.\n",
    "\n",
    "Plot the actual and biased distributions, and compute their means."
   ]
  },
  {
   "cell_type": "code",
   "execution_count": 51,
   "metadata": {},
   "outputs": [
    {
     "data": {
      "text/plain": [
       "0    3\n",
       "1    0\n",
       "2    0\n",
       "3    0\n",
       "4    0\n",
       "5    0\n",
       "6    0\n",
       "7    0\n",
       "8    2\n",
       "9    0\n",
       "Name: numkdhh, dtype: int64"
      ]
     },
     "execution_count": 51,
     "metadata": {},
     "output_type": "execute_result"
    }
   ],
   "source": [
    "resp['numkdhh'].head(10) #Used to get idea of what numkdhh (number of kids per household) data looks like"
   ]
  },
  {
   "cell_type": "code",
   "execution_count": 58,
   "metadata": {},
   "outputs": [],
   "source": [
    "# Get instance of class Pmf - applies probabilty mass function on numkdhh variable\n",
    "pmf = thinkstats2.Pmf(resp.numkdhh, label='actual') "
   ]
  },
  {
   "cell_type": "code",
   "execution_count": 59,
   "metadata": {},
   "outputs": [
    {
     "data": {
      "image/png": "[encoded data removed]",
      "text/plain": [
       "<Figure size 432x288 with 1 Axes>"
      ]
     },
     "metadata": {
      "needs_background": "light"
     },
     "output_type": "display_data"
    }
   ],
   "source": [
    "# Create histogram of number of kids per household\n",
    "thinkplot.Pmf(pmf) \n",
    "# Modify histogram to add x & y axis labels\n",
    "thinkplot.Config(xlabel='Number of children', ylabel='PMF')"
   ]
  },
  {
   "cell_type": "code",
   "execution_count": 60,
   "metadata": {},
   "outputs": [],
   "source": [
    "# Because there are more children answering the survey in families with more children, we need to un-bias the data\n",
    "\n",
    "#Define BiasPmf Function\n",
    "def BiasPmf(pmf, label):\n",
    "    new_pmf = pmf.Copy(label=label) #create a copy of pmf data\n",
    "\n",
    "    for x, p in pmf.Items():\n",
    "        new_pmf.Mult(x, x)  #multiply each num kids per household by num kids per household\n",
    "        \n",
    "    new_pmf.Normalize() #set the new_pmf's total back to 1\n",
    "    return new_pmf"
   ]
  },
  {
   "cell_type": "code",
   "execution_count": 61,
   "metadata": {},
   "outputs": [
    {
     "data": {
      "image/png": "[encoded data removed]",
      "text/plain": [
       "<Figure size 432x288 with 1 Axes>"
      ]
     },
     "metadata": {
      "needs_background": "light"
     },
     "output_type": "display_data"
    }
   ],
   "source": [
    "# Plot the actual and observed data\n",
    "biased = BiasPmf(pmf, label='observed') #This represents the biased distribution\n",
    "thinkplot.PrePlot(num=2) #sets number of lines that will be plotted\n",
    "thinkplot.Pmfs([pmf, biased]) # plots pmf & biased data\n",
    "thinkplot.Config(xlabel='Number of children', ylabel='PMF') # add x & y labels "
   ]
  },
  {
   "cell_type": "code",
   "execution_count": 55,
   "metadata": {},
   "outputs": [
    {
     "data": {
      "text/plain": [
       "1.024205155043831"
      ]
     },
     "execution_count": 55,
     "metadata": {},
     "output_type": "execute_result"
    }
   ],
   "source": [
    "# Get mean of pmf data\n",
    "pmf.Mean()"
   ]
  },
  {
   "cell_type": "markdown",
   "metadata": {},
   "source": [
    "**Exercise 3.2:**  Write functions called PMFMean & PMFVar that take a Pmf object and compute the mean and variance. To test these methods, check that they are consistent with the methods Mean and Var provided by Pmf\n"
   ]
  },
  {
   "cell_type": "code",
   "execution_count": 62,
   "metadata": {},
   "outputs": [],
   "source": [
    "# Creates a function that computes the mean of a PMF. Returns a float as the mean\n",
    "def PMFMean(self):     \n",
    "    return sum(p * x for x, p in self.Items())"
   ]
  },
  {
   "cell_type": "code",
   "execution_count": 63,
   "metadata": {},
   "outputs": [],
   "source": [
    "# Creat a function that computes the variance of a PMF. Returns a float as the variance\n",
    "def PMFVar(self, mu=None):\n",
    "    if mu is None:\n",
    "        mu = self.Mean()\n",
    "    return sum(p * (x-mu)**2 for x, p in self.Items())"
   ]
  },
  {
   "cell_type": "code",
   "execution_count": 87,
   "metadata": {},
   "outputs": [
    {
     "name": "stdout",
     "output_type": "stream",
     "text": [
      "PMFMean(pmf)= 1.024205155043831\n",
      "pmf.Mean()  = 1.024205155043831\n",
      "Output of PMFMean(pmf) matches output of pmf.Mean()\n"
     ]
    }
   ],
   "source": [
    "# Check output of PMF Mean function\n",
    "print(\"PMFMean(pmf)= \"+ str(PMFMean(pmf)))\n",
    "print(\"pmf.Mean()  = \"+ str(pmf.Mean()))\n",
    "\n",
    "if (PMFMean(pmf) == pmf.Mean()):\n",
    "    print(\"Output of PMFMean(pmf) matches output of pmf.Mean()\")\n",
    "else:\n",
    "    print(\"Ouputs do not match\")"
   ]
  },
  {
   "cell_type": "code",
   "execution_count": 89,
   "metadata": {},
   "outputs": [
    {
     "name": "stdout",
     "output_type": "stream",
     "text": [
      "PMFVar(pmf)= 1.4128643263531195\n",
      "pmf.Var()  = 1.4128643263531195\n",
      "Output of PMFVar(pmf) matches output of pmf.Var()\n"
     ]
    }
   ],
   "source": [
    "# Check output of PMF Variance function\n",
    "print(\"PMFVar(pmf)= \"+ str(PMFVar(pmf)))\n",
    "print(\"pmf.Var()  = \"+ str(pmf.Var()))\n",
    "\n",
    "if (PMFVar(pmf) == pmf.Var()):\n",
    "    print(\"Output of PMFVar(pmf) matches output of pmf.Var()\")\n",
    "else:\n",
    "    print(\"Ouputs do not match\")"
   ]
  },
  {
   "cell_type": "markdown",
   "metadata": {},
   "source": [
    "# Chapter 4"
   ]
  },
  {
   "cell_type": "markdown",
   "metadata": {},
   "source": [
    "**Exercise 4.1**: How much did you weigh at birth? If you don’t know, call your mother or someone else who knows. Using the NSFG data (all live births), compute the distribution of birth weights and use it to find your percentile rank. If you were a first baby, find your percentile rank in the distribution for first babies. Otherwise use the distribution for others. If you are in the 90th percentile or higher, call your mother back and apologize."
   ]
  },
  {
   "cell_type": "code",
   "execution_count": 91,
   "metadata": {},
   "outputs": [],
   "source": [
    "#computes the cumulative distribution function for the weights of first-borns\n",
    "first_cdf = thinkstats2.Cdf(firsts.totalwgt_lb, label='first')\n",
    "#computes the cumulative distribution function for the weights of non-first borns\n",
    "other_cdf = thinkstats2.Cdf(others.totalwgt_lb, label='other') "
   ]
  },
  {
   "cell_type": "code",
   "execution_count": 101,
   "metadata": {},
   "outputs": [
    {
     "data": {
      "text/plain": [
       "83.80748663101605"
      ]
     },
     "execution_count": 101,
     "metadata": {},
     "output_type": "execute_result"
    }
   ],
   "source": [
    "# I was not the first born, so I will use the other_cdf \n",
    "\n",
    "other_cdf.PercentileRank(8.6)"
   ]
  },
  {
   "cell_type": "markdown",
   "metadata": {},
   "source": [
    "**Exercise**: The numbers generated by numpy.random.random are supposed to be uniform between 0 and 1; that is, every value in the range should have the same probability.\n",
    "\n",
    "Generate 1000 numbers from numpy.random.random and plot their PMF. What goes wrong?\n",
    "\n",
    "Now plot the CDF. Is the distribution uniform?"
   ]
  },
  {
   "cell_type": "code",
   "execution_count": 102,
   "metadata": {},
   "outputs": [],
   "source": [
    "# Generate 1K random numbers\n",
    "\n",
    "t = np.random.random(1000)"
   ]
  },
  {
   "cell_type": "code",
   "execution_count": 103,
   "metadata": {},
   "outputs": [
    {
     "data": {
      "image/png": "[encoded data removed]",
      "text/plain": [
       "<Figure size 432x288 with 1 Axes>"
      ]
     },
     "metadata": {
      "needs_background": "light"
     },
     "output_type": "display_data"
    }
   ],
   "source": [
    "# Solution\n",
    "# applies probabilty mass function on t variable\n",
    "pmf = thinkstats2.Pmf(t)\n",
    "# plot pmf data\n",
    "thinkplot.Pmf(pmf, linewidth=0.1)\n",
    "# Label x & y axis\n",
    "thinkplot.Config(xlabel='Random variate', ylabel='PMF')"
   ]
  },
  {
   "cell_type": "code",
   "execution_count": 105,
   "metadata": {},
   "outputs": [
    {
     "data": {
      "image/png": "[encoded data removed]",
      "text/plain": [
       "<Figure size 432x288 with 1 Axes>"
      ]
     },
     "metadata": {
      "needs_background": "light"
     },
     "output_type": "display_data"
    }
   ],
   "source": [
    "# Apply cumulatitive distribution lfunction and to t data and set to cdf dataset\n",
    "cdf = thinkstats2.Cdf(t) \n",
    "# Plot cdf dataset\n",
    "thinkplot.Cdf(cdf)\n",
    "# Add x & y labels to graph\n",
    "thinkplot.Config(xlabel='Random variate', ylabel='CDF')"
   ]
  },
  {
   "cell_type": "markdown",
   "metadata": {},
   "source": [
    "Since the distribution is approximately a straight line, the distribution is normal"
   ]
  },
  {
   "cell_type": "code",
   "execution_count": null,
   "metadata": {},
   "outputs": [],
   "source": []
  }
 ],
 "metadata": {
  "kernelspec": {
   "display_name": "Python 3",
   "language": "python",
   "name": "python3"
  },
  "language_info": {
   "codemirror_mode": {
    "name": "ipython",
    "version": 3
   },
   "file_extension": ".py",
   "mimetype": "text/x-python",
   "name": "python",
   "nbconvert_exporter": "python",
   "pygments_lexer": "ipython3",
   "version": "3.7.3"
  }
 },
 "nbformat": 4,
 "nbformat_minor": 2
}
